{
 "cells": [
  {
   "cell_type": "code",
   "execution_count": 1,
   "id": "b2539a39",
   "metadata": {},
   "outputs": [
    {
     "name": "stdout",
     "output_type": "stream",
     "text": [
      " n True value Approx. value Abs. error Rel. error\n",
      " 1             1      0.922137 -7.786299e-02 -7.786299e-02\n",
      " 2             2         1.919 -8.099565e-02 -4.049782e-02\n",
      " 3             6       5.83621 -1.637904e-01 -2.729840e-02\n",
      " 4            24       23.5062 -4.938249e-01 -2.057604e-02\n",
      " 5           120       118.019 -1.980832e+00 -1.650693e-02\n",
      " 6           720       710.078 -9.921815e+00 -1.378030e-02\n",
      " 7          5040        4980.4 -5.960417e+01 -1.182622e-02\n",
      " 8         40320       39902.4 -4.176045e+02 -1.035726e-02\n",
      " 9        362880        359537 -3.343127e+03 -9.212762e-03\n",
      "10    3.6288e+06    3.5987e+06 -3.010438e+04 -8.295960e-03\n",
      "\n",
      "Absolute error increases, relative error decreases.\n"
     ]
    }
   ],
   "source": [
    "import numpy as np\n",
    "from scipy.special import gamma\n",
    "\n",
    "# Values of n\n",
    "n = np.arange(1, 11)\n",
    "\n",
    "# True values using gamma function\n",
    "trueValue = gamma(n + 1)\n",
    "\n",
    "# Stirling's formula\n",
    "approxValue = np.sqrt(2 * np.pi * n) * (n / np.exp(1)) ** n\n",
    "\n",
    "# Absolute and relative errors\n",
    "absError = approxValue - trueValue\n",
    "relError = absError / trueValue\n",
    "\n",
    "# Display the results\n",
    "print(\" n True value Approx. value Abs. error Rel. error\")\n",
    "for i in range(len(n)):\n",
    "    print(f\"{n[i]:2d} {trueValue[i]:13.6g} {approxValue[i]:13.6g} {absError[i]:13.6e} {relError[i]:13.6e}\")\n",
    "\n",
    "print(\"\\nAbsolute error increases, relative error decreases.\")\n"
   ]
  },
  {
   "cell_type": "code",
   "execution_count": 2,
   "id": "6080f535",
   "metadata": {},
   "outputs": [
    {
     "name": "stdout",
     "output_type": "stream",
     "text": [
      "(a) Trick works because 4/3 is not exactly representable in binary.\n",
      "(b) abs(3 * (4/3 - 1) - 1) = 2.220446049250313e-16\n",
      "(c) Trick would not work for beta=3 because 4/3 would be exactly representable.\n"
     ]
    }
   ],
   "source": [
    "# (a) Explanation\n",
    "print(\"(a) Trick works because 4/3 is not exactly representable in binary.\")\n",
    "\n",
    "# (b) Calculation and comparison\n",
    "result_b = abs(3 * (4/3 - 1) - 1)\n",
    "print(f\"(b) abs(3 * (4/3 - 1) - 1) = {result_b}\")\n",
    "\n",
    "# (c) Explanation\n",
    "print(\"(c) Trick would not work for beta=3 because 4/3 would be exactly representable.\")"
   ]
  },
  {
   "cell_type": "code",
   "execution_count": 3,
   "id": "bd9cf9b4",
   "metadata": {},
   "outputs": [
    {
     "name": "stdout",
     "output_type": "stream",
     "text": [
      " k True value Approx. value Abs. error Rel. error\n",
      " 1 2.718281828459 2.593742460100 -1.245394e-01 -4.581547e-02\n",
      " 2 2.718281828459 2.704813829422 -1.346800e-02 -4.954600e-03\n",
      " 3 2.718281828459 2.716923932236 -1.357896e-03 -4.995421e-04\n",
      " 4 2.718281828459 2.718145926825 -1.359016e-04 -4.999542e-05\n",
      " 5 2.718281828459 2.718268237192 -1.359127e-05 -4.999948e-06\n",
      " 6 2.718281828459 2.718280469096 -1.359363e-06 -5.000818e-07\n",
      " 7 2.718281828459 2.718281694132 -1.343270e-07 -4.941613e-08\n",
      " 8 2.718281828459 2.718281798347 -3.011169e-08 -1.107747e-08\n",
      " 9 2.718281828459 2.718282052012  2.235525e-07  8.224037e-08\n",
      "10 2.718281828459 2.718282053235  2.247757e-07  8.269037e-08\n",
      "11 2.718281828459 2.718282053357  2.248981e-07  8.273537e-08\n",
      "12 2.718281828459 2.718523496037  2.416676e-04  8.890453e-05\n",
      "13 2.718281828459 2.716110034087 -2.171794e-03 -7.989585e-04\n",
      "14 2.718281828459 2.716110034087 -2.171794e-03 -7.989585e-04\n",
      "15 2.718281828459 3.035035206549  3.167534e-01  1.165271e-01\n",
      "16 2.718281828459 1.000000000000 -1.718282e+00 -6.321206e-01\n",
      "17 2.718281828459 1.000000000000 -1.718282e+00 -6.321206e-01\n",
      "18 2.718281828459 1.000000000000 -1.718282e+00 -6.321206e-01\n",
      "19 2.718281828459 1.000000000000 -1.718282e+00 -6.321206e-01\n",
      "20 2.718281828459 1.000000000000 -1.718282e+00 -6.321206e-01\n",
      "\n",
      "Overall error initially decreases but later increases, as decreasing\n",
      "truncation error is offset by increasing rounding error.\n"
     ]
    }
   ],
   "source": [
    "import numpy as np\n",
    "\n",
    "# Values of k\n",
    "k = np.arange(1, 21)\n",
    "n = 10.0 ** k\n",
    "\n",
    "# True value\n",
    "trueValue = np.exp(1) * np.ones_like(k)\n",
    "\n",
    "# Approximation using the limit definition of e\n",
    "approxValue = (1 + 1 / n) ** n\n",
    "\n",
    "# Absolute and relative errors\n",
    "absError = approxValue - trueValue\n",
    "relError = absError / trueValue\n",
    "\n",
    "# Display the results\n",
    "print(\" k True value Approx. value Abs. error Rel. error\")\n",
    "for i in range(len(k)):\n",
    "    print(f\"{k[i]:2d} {trueValue[i]:14.12f} {approxValue[i]:14.12f} {absError[i]:13.6e} {relError[i]:13.6e}\")\n",
    "\n",
    "print(\"\\nOverall error initially decreases but later increases, as decreasing\")\n",
    "print(\"truncation error is offset by increasing rounding error.\")"
   ]
  },
  {
   "cell_type": "code",
   "execution_count": null,
   "id": "5fb443d6",
   "metadata": {},
   "outputs": [],
   "source": []
  }
 ],
 "metadata": {
  "kernelspec": {
   "display_name": "firstenv",
   "language": "python",
   "name": "firstenv"
  },
  "language_info": {
   "codemirror_mode": {
    "name": "ipython",
    "version": 3
   },
   "file_extension": ".py",
   "mimetype": "text/x-python",
   "name": "python",
   "nbconvert_exporter": "python",
   "pygments_lexer": "ipython3",
   "version": "3.11.5"
  }
 },
 "nbformat": 4,
 "nbformat_minor": 5
}
